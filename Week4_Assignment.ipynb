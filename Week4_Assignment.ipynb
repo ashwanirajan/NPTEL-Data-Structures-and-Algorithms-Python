{
 "cells": [
  {
   "cell_type": "markdown",
   "metadata": {},
   "source": [
    "Write a Python function frequency(l) that takes as input a list of integers and returns a pair of the form (minfreqlist,maxfreqlist) where\n",
    "\n",
    "- minfreqlist is a list of numbers with minimum frequency in l, sorted in ascending order\n",
    "- maxfreqlist is a list of numbers with maximum frequency in l, sorted in ascending order"
   ]
  },
  {
   "cell_type": "code",
   "execution_count": 1,
   "metadata": {},
   "outputs": [],
   "source": [
    "def get_keys(val,d):\n",
    "    keylist = []\n",
    "    for key, value in d.items(): \n",
    "         if value == val:\n",
    "                keylist.append(key)\n",
    "    return keylist\n",
    "\n",
    "\n",
    "def frequency(l):\n",
    "  \n",
    "    freq = {}\n",
    "    for items in l:\n",
    "        freq[items] = l.count(items)\n",
    "\n",
    "    keymax = max(freq, key=freq.get)\n",
    "    keymin = min(freq, key=freq.get)\n",
    "\n",
    "\n",
    "    l_max = get_keys(freq[keymax],freq)\n",
    "    l_min = get_keys(freq[keymin],freq)\n",
    "    l_min.sort()\n",
    "    l_max.sort()\n",
    "\n",
    "    return (l_min, l_max)"
   ]
  },
  {
   "cell_type": "markdown",
   "metadata": {},
   "source": [
    "An airline has assigned each city that it serves a unique numeric code. It has collected information about all the direct flights it operates, represented as a list of pairs of the form (i,j), where i is the code of the starting city and j is the code of the destination.\n",
    "\n",
    "It now wants to compute all pairs of cities connected by one intermediate hope — city i is connected to city j by one intermediate hop if there are direct flights of the form (i,k) and (k,j) for some other city k. The airline is only interested in one hop flights between different cities — pairs of the form (i,i) are not useful.\n",
    "\n",
    "Write a Python function onehop(l) that takes as input a list of pairs representing direct flights, as described above, and returns a list of all pairs (i,j), where i != j, such that i and j are connected by one hop. Note that it may already be the case that there is a direct flight from i to j. So long as there is an intermediate k with a flight from i to k and from k to j, the list returned by the function should include (i,j). The input list may be in any order. The pairs in the output list should be in lexicographic (dictionary) order. Each pair should be listed exactly once."
   ]
  },
  {
   "cell_type": "code",
   "execution_count": 2,
   "metadata": {},
   "outputs": [],
   "source": [
    "def onehop(l):\n",
    "    n = len(l)\n",
    "    l1 = []\n",
    "    for i in range(0,n):\n",
    "        for j in range(0,n):\n",
    "            if ((l[i][1]==l[j][0]) and (l[i][0]!=l[j][1])):\n",
    "                l1.append((l[i][0], l[j][1]))\n",
    "    myset=sorted(set(l1))\n",
    "    return(myset)"
   ]
  }
 ],
 "metadata": {
  "kernelspec": {
   "display_name": "Python 3",
   "language": "python",
   "name": "python3"
  },
  "language_info": {
   "codemirror_mode": {
    "name": "ipython",
    "version": 3
   },
   "file_extension": ".py",
   "mimetype": "text/x-python",
   "name": "python",
   "nbconvert_exporter": "python",
   "pygments_lexer": "ipython3",
   "version": "3.7.3"
  }
 },
 "nbformat": 4,
 "nbformat_minor": 2
}
