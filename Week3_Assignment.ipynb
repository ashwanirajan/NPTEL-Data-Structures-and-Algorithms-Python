{
 "cells": [
  {
   "cell_type": "markdown",
   "metadata": {},
   "source": [
    "Write a function contracting(l) that takes as input a list of integer l and returns True if the absolute difference between each adjacent pair of elements strictly decreases."
   ]
  },
  {
   "cell_type": "code",
   "execution_count": 2,
   "metadata": {},
   "outputs": [],
   "source": [
    "def contracting(l):\n",
    "    for i in range(len(l)-2):\n",
    "        if abs(l[i+1] - l[i])<= abs(l[i+2] - l[i+1]):\n",
    "            return False\n",
    "\n",
    "    return True"
   ]
  },
  {
   "cell_type": "markdown",
   "metadata": {},
   "source": [
    "In a list of integers l, the neighbours of l[i] are l[i-1] and l[i+1]. l[i] is a hill if it is strictly greater than its neighbours and a valley if it is strictly less than its neighbours.\n",
    "Write a function counthv(l) that takes as input a list of integers l and returns a list [hc,vc] where hc is the number of hills in l and vc is the number of valleys in l."
   ]
  },
  {
   "cell_type": "code",
   "execution_count": 1,
   "metadata": {},
   "outputs": [],
   "source": [
    "def counthv(k):\n",
    "    hc = 0\n",
    "    vc = 0\n",
    "    for i in range(1,len(k)-1):\n",
    "        if max(k[i-1] , k[i], k[i+1]) == k[i] :\n",
    "            hc = hc + 1\n",
    "        if min(k[i-1] , k[i], k[i+1]) == k[i] :\n",
    "            vc = vc + 1\n",
    "  \n",
    "    l_res = [hc, vc]\n",
    "  \n",
    "    return l_res\n"
   ]
  },
  {
   "cell_type": "markdown",
   "metadata": {},
   "source": [
    "A square n×n matrix of integers can be written in Python as a list with n elements, where each element is in turn a list of n integers, representing a row of the matrix. For instance, the matrix\n",
    "\n",
    "  1  2  3\\\n",
    "  4  5  6\\\n",
    "  7  8  9\\\n",
    "would be represented as [[1,2,3], [4,5,6], [7,8,9]].\n",
    "\n",
    "Write a function leftrotate(m) that takes a list representation m of a square matrix as input, and returns the matrix obtained by rotating the original matrix counterclockwize by 90 degrees. Your function should not modify the argument m provided to the function rotate().\n",
    "\n"
   ]
  },
  {
   "cell_type": "code",
   "execution_count": 3,
   "metadata": {},
   "outputs": [],
   "source": [
    "def leftrotate(l):\n",
    "    a1 = l\n",
    "    result = [[a1[j][i] for j in range(len(a1))] for i in range(len(a1[0]))]\n",
    "    result2 = [[result[len(result)-1-k][l] for l in range(len(result))] for k in range(len(result[0]))]\n",
    "\n",
    "  \n",
    "    return result2"
   ]
  }
 ],
 "metadata": {
  "kernelspec": {
   "display_name": "Python 3",
   "language": "python",
   "name": "python3"
  },
  "language_info": {
   "codemirror_mode": {
    "name": "ipython",
    "version": 3
   },
   "file_extension": ".py",
   "mimetype": "text/x-python",
   "name": "python",
   "nbconvert_exporter": "python",
   "pygments_lexer": "ipython3",
   "version": "3.7.3"
  }
 },
 "nbformat": 4,
 "nbformat_minor": 2
}
