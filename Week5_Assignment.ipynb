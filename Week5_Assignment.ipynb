{
 "cells": [
  {
   "cell_type": "markdown",
   "metadata": {},
   "source": [
    "The academic office at the Hogwarts School of Witchcraft and Wizardry has compiled data about students' grades. The data is provided as text from standard input in three parts: information about courses, information about students and information about grades. Each part has a specific line format, described below..\n",
    "\n",
    "- Information about courses\\\n",
    "    Line format: Course Code Course Name Semester Year Instructor\n",
    "- Information about students\\\n",
    "    Line format: Roll Number Full Name\n",
    "- Information about grades\\\n",
    "    Line format: Course Code Semester Year Roll Number Grade\n",
    "\n",
    "The possible grades are A, AB, B, BC, C, CD, D with corresponding grade points 10, 9, 8, 7, 6, 5 and 4. The grade point average of a student is the sum of his/her grade points divided by the number of courses. For instance, if a student has taken two courses with grades A and C, the grade point average is 8.50 = (10+7)÷2. If a student has not completed any courses, the grade point average is defined to be 0.\n",
    "\n",
    "You may assume that the data is internally consistent. For every grade, there is a corresponding course code and roll number in the input data.\n",
    "\n",
    "Each section of the input starts with a line containing a single keyword. The first section begins with a line containing Courses. The second section begins with a line containing Students. The third section begins with a line containing Grades. The end of the input is marked by a line containing EndOfInput.\n",
    "\n",
    "Write a Python program to read the data as described above and print out a line listing the grade point average for each student in the following format:\n",
    "\n",
    "Roll Number Full Name Grade Point Average\\\n",
    "Your output should be sorted by Roll Number. The grade point average should be rounded off to 2 digits after the decimal point. Use the built-in function round()."
   ]
  },
  {
   "cell_type": "code",
   "execution_count": null,
   "metadata": {},
   "outputs": [],
   "source": [
    "def cgpacal(studentinfo,gradeinfo):\n",
    "    gradict = { 'A':10, 'AB':9, 'B':8, 'BC':7, 'C':6, 'CD':5, 'D':4}\n",
    "    for x in studentinfo:\n",
    "        cgpa = 0\n",
    "        count = 0\n",
    "        for y in gradeinfo:\n",
    "            if x[0]==y[3]:\n",
    "                cgpa+=gradict[y[4]]\n",
    "                count+=1\n",
    "        if cgpa==0:\n",
    "            x.append(round(0,2))\n",
    "        else:\n",
    "            x.append(round(cgpa/count,2))\n",
    "    studentinfo.sort()\n",
    "    for x in studentinfo:\n",
    "        print(x[0]+'~'+x[1]+'~'+str(x[2]))\n",
    "        \n",
    "courseinfo = []\n",
    "studentinfo = []\n",
    "gradeinfo = []\n",
    "x= input()\n",
    "while x!='Students':\n",
    "    x = input()\n",
    "    courseinfo.append(x.split('~'))\n",
    "\n",
    "x = input()  \n",
    "while x!='Grades':\n",
    "    studentinfo.append(x.split('~'))\n",
    "    x = input()\n",
    "\n",
    "x = input()\n",
    "while x != 'EndOfInput':\n",
    "    gradeinfo.append(x.split('~'))\n",
    "    x = input()\n",
    "courseinfo = courseinfo[:-1]\n",
    "cgpacal(studentinfo,gradeinfo)"
   ]
  }
 ],
 "metadata": {
  "kernelspec": {
   "display_name": "Python 3",
   "language": "python",
   "name": "python3"
  },
  "language_info": {
   "codemirror_mode": {
    "name": "ipython",
    "version": 3
   },
   "file_extension": ".py",
   "mimetype": "text/x-python",
   "name": "python",
   "nbconvert_exporter": "python",
   "pygments_lexer": "ipython3",
   "version": "3.7.3"
  }
 },
 "nbformat": 4,
 "nbformat_minor": 2
}
