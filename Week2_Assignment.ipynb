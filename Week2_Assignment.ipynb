{
 "cells": [
  {
   "cell_type": "markdown",
   "metadata": {},
   "source": [
    "\n",
    "A positive integer m is a prime product if it can be written as p×q, where p and q are both primes. .\n",
    "\n",
    "Write a Python function primeproduct(m) that takes an integer m as input and returns True if m is a prime product and False otherwise. (If m is not positive, your function should return False.)\n",
    "\n",
    "Here are some examples of how your function should work."
   ]
  },
  {
   "cell_type": "markdown",
   "metadata": {},
   "source": [
    "primeproduct(6) =>\n",
    "True\n",
    "\n",
    "primeproduct(188) =>\n",
    "False\n",
    "\n",
    "primeproduct(202) =>\n",
    "True"
   ]
  },
  {
   "cell_type": "code",
   "execution_count": 2,
   "metadata": {},
   "outputs": [],
   "source": [
    "def primeproduct(m):\n",
    "    l=[]    \n",
    "    if m>=2:\n",
    "        for i in range(2,m):\n",
    "            if m%i==0:                \n",
    "                l+=[i]            \n",
    "        if len(l)==2:\n",
    "            if m==l[0]*l[1]:\n",
    "                if l[1]%l[0]==0:\n",
    "                    return False\n",
    "                return True\n",
    "        elif len(l)==1:\n",
    "            if m==l[0]*l[0]:\n",
    "                return True\n",
    "        else:\n",
    "            return False     \n",
    "    else:\n",
    "        return False"
   ]
  },
  {
   "cell_type": "markdown",
   "metadata": {},
   "source": [
    "Write a function delchar(s,c) that takes as input strings s and c, where c has length 1 (i.e., a single character), and returns the string obtained by deleting all occurrences of c in s. If c has length other than 1, the function should return s\n",
    "\n",
    "Here are some examples to show how your function should work."
   ]
  },
  {
   "cell_type": "markdown",
   "metadata": {},
   "source": [
    "delchar(\"banana\",\"b\") =>\n",
    "'anana'\n",
    "\n",
    "delchar(\"banana\",\"a\") =>\n",
    "'bnn'\n",
    "\n",
    "delchar(\"banana\",\"n\") =>\n",
    "'baaa'\n",
    "\n",
    "delchar(\"banana\",\"an\") =>\n",
    "'banana'\n"
   ]
  },
  {
   "cell_type": "code",
   "execution_count": 3,
   "metadata": {},
   "outputs": [],
   "source": [
    "def delchar(s,c):\n",
    "    if len(c) == 1:\n",
    "        s = s.replace(c,'')\n",
    "    return s"
   ]
  },
  {
   "cell_type": "markdown",
   "metadata": {},
   "source": [
    "Write a function shuffle(l1,l2) that takes as input two lists, 11 and l2, and returns a list consisting of the first elment in l1, then the first element in l2, then the second element in l2, then the second element in l2, and so on. If the two lists are not of equal length, the remaining elements of the longer list are appended at the end of the shuffled output.\n",
    "\n",
    "Here are some examples to show how your function should work."
   ]
  },
  {
   "cell_type": "markdown",
   "metadata": {},
   "source": [
    "shuffle([0,2,4],[1,3,5]) =>\n",
    "[0, 1, 2, 3, 4, 5]\n",
    "\n",
    "shuffle([0,2,4],[1]) =>\n",
    "[0, 1, 2, 4]\n",
    "\n",
    "shuffle([0],[1,3,5]) =>\n",
    "[0, 1, 3, 5]"
   ]
  },
  {
   "cell_type": "code",
   "execution_count": 5,
   "metadata": {},
   "outputs": [],
   "source": [
    "def shuffle(l1, l2):\n",
    "    l3 = []\n",
    "    min_list = min(len(l1),len(l2))\n",
    "    \n",
    "    if min_list == 0:\n",
    "        if len(l1)==0:\n",
    "            return l2\n",
    "        elif len(l2) ==0:\n",
    "            return l1\n",
    "    \n",
    "    else:\n",
    "        for i in range(min_list):\n",
    "            l3.extend([l1[i],l2[i]])\n",
    "\n",
    "        if min_list == len(l1):\n",
    "            l3.extend(l2[len(l1):])\n",
    "        else:\n",
    "            l3.extend(l1[len(l2):])\n",
    "\n",
    "    return l3"
   ]
  }
 ],
 "metadata": {
  "kernelspec": {
   "display_name": "Python 3",
   "language": "python",
   "name": "python3"
  },
  "language_info": {
   "codemirror_mode": {
    "name": "ipython",
    "version": 3
   },
   "file_extension": ".py",
   "mimetype": "text/x-python",
   "name": "python",
   "nbconvert_exporter": "python",
   "pygments_lexer": "ipython3",
   "version": "3.7.3"
  }
 },
 "nbformat": 4,
 "nbformat_minor": 2
}
